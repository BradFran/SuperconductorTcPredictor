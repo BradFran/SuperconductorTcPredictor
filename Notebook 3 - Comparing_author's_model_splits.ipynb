{
 "cells": [
  {
   "cell_type": "code",
   "execution_count": 7,
   "metadata": {},
   "outputs": [
    {
     "name": "stdout",
     "output_type": "stream",
     "text": [
      "Test RMSE: 8.7622, Test R²: 0.9306\n"
     ]
    }
   ],
   "source": [
    "# attempt to setup and run the model as close to the author's description as possible\n",
    "# this time use different train test splits\n",
    "\n",
    "import pandas as pd\n",
    "import numpy as np\n",
    "from xgboost import XGBRegressor\n",
    "from sklearn.model_selection import train_test_split\n",
    "from sklearn.metrics import mean_squared_error, r2_score\n",
    "\n",
    "# Load the data\n",
    "main_data = pd.read_csv(\"./data/train.csv\")\n",
    "\n",
    "# 'critical_temp' is the target\n",
    "X = main_data.drop('critical_temp', axis=1)\n",
    "y = main_data['critical_temp']\n",
    "\n",
    "# Split the data into training and testing sets\n",
    "X_train, X_test, y_train, y_test = train_test_split(X, y, test_size=0.05, random_state=42)\n",
    "\n",
    "# Create a baseline XGBoost model with the parameters specified in the paper\n",
    "xgb_model = XGBRegressor(\n",
    "    n_estimators=374,         # Tree size: 374\n",
    "    max_depth=16,             # Maximum depth: 16\n",
    "    learning_rate=0.02,       # Learning rate (η): 0.02\n",
    "    min_child_weight=1,       # Minimum child weight: 1\n",
    "    colsample_bytree=0.5,     # Column subsampling: 0.50\n",
    "    random_state=42,\n",
    "    objective='reg:squarederror'\n",
    ")\n",
    "\n",
    "xgb_model.fit(X_train, y_train)\n",
    "\n",
    "# Generate predictions\n",
    "y_pred_xgb_test = xgb_model.predict(X_test)\n",
    "\n",
    "# Evaluate Model\n",
    "xgb_test = np.sqrt(mean_squared_error(y_test, y_pred_xgb_test))\n",
    "xgb_r2_test = r2_score(y_test, y_pred_xgb_test)\n",
    "\n",
    "print(f\"Test RMSE: {xgb_test:.4f}, Test R²: {xgb_r2_test:.4f}\")\n",
    "\n"
   ]
  },
  {
   "cell_type": "markdown",
   "metadata": {},
   "source": [
    "Runs:\n",
    "\n",
    "66-33 split:\n",
    "\n",
    "Test RMSE: 9.4656, Test R²: 0.9230\n",
    "\n",
    "70-30 split:\n",
    "\n",
    "Test RMSE: 9.4038, Test R²: 0.9238\n",
    "\n",
    "80-20 split:\n",
    "\n",
    "Test RMSE: 8.8457, Test R²: 0.9320\n",
    "\n",
    "90-10 split:\n",
    "\n",
    "Test RMSE: 8.5532, Test R²: 0.9362\n",
    "\n",
    "95-05 split:\n",
    "\n",
    "Test RMSE: 8.7622, Test R²: 0.9306\n",
    "\n",
    "\n",
    "Note:\n",
    "\n",
    "\n"
   ]
  }
 ],
 "metadata": {
  "kernelspec": {
   "display_name": ".venv",
   "language": "python",
   "name": "python3"
  },
  "language_info": {
   "codemirror_mode": {
    "name": "ipython",
    "version": 3
   },
   "file_extension": ".py",
   "mimetype": "text/x-python",
   "name": "python",
   "nbconvert_exporter": "python",
   "pygments_lexer": "ipython3",
   "version": "3.12.9"
  }
 },
 "nbformat": 4,
 "nbformat_minor": 2
}
