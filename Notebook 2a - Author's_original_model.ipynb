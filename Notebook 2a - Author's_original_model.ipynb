{
 "cells": [
  {
   "cell_type": "code",
   "execution_count": null,
   "metadata": {},
   "outputs": [
    {
     "name": "stdout",
     "output_type": "stream",
     "text": [
      "Run 1: RMSE = 9.4656, R² = 0.9230\n"
     ]
    }
   ],
   "source": [
    "# attempt to setup and run the model as close to the author's description as possible\n",
    "# he uses a 66/33 train/test split and evaluates performance of 25 runs, each with different random samples\n",
    "\n",
    "import pandas as pd\n",
    "import numpy as np\n",
    "from xgboost import XGBRegressor\n",
    "from sklearn.model_selection import train_test_split, cross_validate\n",
    "from sklearn.metrics import mean_squared_error, r2_score\n",
    "\n",
    "# Load the data\n",
    "main_data = pd.read_csv(\"./data/train.csv\")\n",
    "\n",
    "# 'critical_temp' is the target\n",
    "X = main_data.drop('critical_temp', axis=1)\n",
    "y = main_data['critical_temp']\n",
    "\n",
    "\n",
    "# Create a baseline XGBoost model with the parameters specified in the paper\n",
    "xgb_model = XGBRegressor(\n",
    "    n_estimators=374,         # Tree size: 374\n",
    "    max_depth=16,             # Maximum depth: 16\n",
    "    learning_rate=0.02,       # Learning rate (η): 0.02\n",
    "    min_child_weight=1,       # Minimum child weight: 1\n",
    "    colsample_bytree=0.5,     # Column subsampling: 0.50\n",
    "    random_state=42,\n",
    "    objective='reg:squarederror'\n",
    ")\n",
    "\n",
    "\n",
    "# prepare for doing 25 runs as in the original paper\n",
    "n_runs = 25\n",
    "rmse_list = []\n",
    "r2_list = []\n",
    "\n",
    "for i in range(n_runs):\n",
    "    # Perform a 66/33 random split; vary the random_state for each iteration\n",
    "    X_train, X_test, y_train, y_test = train_test_split(X, y, test_size=0.33, random_state=42 + i)\n",
    "    \n",
    "    # Fit the model on the training set\n",
    "    xgb_model.fit(X_train, y_train)\n",
    "    \n",
    "    # Predict on the test set\n",
    "    y_pred = xgb_model.predict(X_test)\n",
    "    \n",
    "    # Compute RMSE and R² for this run\n",
    "    rmse = np.sqrt(mean_squared_error(y_test, y_pred))\n",
    "    r2 = r2_score(y_test, y_pred)\n",
    "    \n",
    "    rmse_list.append(rmse)\n",
    "    r2_list.append(r2)\n",
    "    \n",
    "    print(f\"Run {i+1}: RMSE = {rmse:.4f}, R² = {r2:.4f}\")\n",
    "\n",
    "# Compute the average RMSE and R² over the 25 runs\n",
    "avg_rmse = np.mean(rmse_list)\n",
    "avg_r2 = np.mean(r2_list)\n",
    "print(f\"\\nAverage RMSE over 25 runs: {avg_rmse:.4f}\")\n",
    "print(f\"Average R² over 25 runs: {avg_r2:.4f}\")\n",
    "\n",
    "\n"
   ]
  },
  {
   "cell_type": "markdown",
   "metadata": {},
   "source": [
    "Results:\n",
    "\n"
   ]
  }
 ],
 "metadata": {
  "kernelspec": {
   "display_name": ".venv",
   "language": "python",
   "name": "python3"
  },
  "language_info": {
   "codemirror_mode": {
    "name": "ipython",
    "version": 3
   },
   "file_extension": ".py",
   "mimetype": "text/x-python",
   "name": "python",
   "nbconvert_exporter": "python",
   "pygments_lexer": "ipython3",
   "version": "3.12.9"
  }
 },
 "nbformat": 4,
 "nbformat_minor": 2
}
