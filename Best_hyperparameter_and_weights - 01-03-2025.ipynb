{
 "cells": [
  {
   "cell_type": "code",
   "execution_count": null,
   "metadata": {},
   "outputs": [],
   "source": [
    "#Best Hyperparametersf rom Bayesian Optimization:\n",
    "\n",
    "\n",
    "# Optimized LightGBM Model\n",
    "optimized_lgb = lgb.LGBMRegressor(n_estimators=496, max_depth=15, learning_rate=0.057878589503943714, \n",
    "                                  subsample=0.6619352139576826, colsample_bytree=0.7512301369524537, \n",
    "                                  num_leaves=148, force_col_wise=True, verbose=-1, random_state=42)\n",
    "\n",
    "# Optimized XGBoost Model\n",
    "optimized_xgb = xgb.XGBRegressor(n_estimators=407, max_depth=10, learning_rate=0.02962746174406205,\n",
    "                                 subsample=0.8786056663685927, colsample_bytree=0.6260167856358314,\n",
    "                                 gamma=4.321388407974591, tree_method=\"hist\", random_state=42)\n",
    "\n",
    "\n",
    "# Optimized CatBoost Model\n",
    "optimized_catboost = CatBoostRegressor(iterations=998, learning_rate=0.0962, depth=9, \n",
    "                                        l2_leaf_reg=4.1926, loss_function='RMSE', \n",
    "                                        random_seed=42, verbose=0)\n",
    "\n",
    "\n",
    "#Best blending weights from Bayesian Optimization:\n",
    "\n",
    "# Define blending weights LightGB; and XGBoost\n",
    "best_weight_lgb = 0.3454\n",
    "best_weight_xgb = 1.0 - best_weight_lgb"
   ]
  }
 ],
 "metadata": {
  "kernelspec": {
   "display_name": ".venv",
   "language": "python",
   "name": "python3"
  },
  "language_info": {
   "name": "python",
   "version": "3.12.9"
  }
 },
 "nbformat": 4,
 "nbformat_minor": 2
}
