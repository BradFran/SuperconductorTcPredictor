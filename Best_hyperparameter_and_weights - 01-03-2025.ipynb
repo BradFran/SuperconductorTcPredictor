{
 "cells": [
  {
   "cell_type": "code",
   "execution_count": null,
   "metadata": {},
   "outputs": [],
   "source": [
    "# Best Hyperparameters found by Bayesian Optimization (rounded to 4 decimal places):\n",
    "\n",
    "# Optimized LightGBM Model\n",
    "optimized_lgb = lgb.LGBMRegressor(n_estimators=496, max_depth=15, learning_rate=0.0579, \n",
    "                                  subsample=0.6619, colsample_bytree=0.7512, \n",
    "                                  num_leaves=148, force_col_wise=True, verbose=-1, random_state=42)\n",
    "\n",
    "# Optimized XGBoost Model\n",
    "optimized_xgb = xgb.XGBRegressor(n_estimators=407, max_depth=10, learning_rate=0.0296,\n",
    "                                 subsample=0.8786, colsample_bytree=0.6260,\n",
    "                                 gamma=4.3214, tree_method=\"hist\", random_state=42)\n",
    "\n",
    "# Optimized CatBoost Model\n",
    "optimized_catboost = CatBoostRegressor(iterations=998, learning_rate=0.0962, depth=9, \n",
    "                                        l2_leaf_reg=4.1926, loss_function='RMSE', \n",
    "                                        random_seed=42, verbose=0)\n",
    "\n",
    "\n",
    "# Best blending weights found by Bayesian Optimization for LightGB and XGBoost:\n",
    "best_weight_lgb = 0.3454\n",
    "best_weight_xgb = 1.0 - best_weight_lgb"
   ]
  }
 ],
 "metadata": {
  "kernelspec": {
   "display_name": ".venv",
   "language": "python",
   "name": "python3"
  },
  "language_info": {
   "name": "python",
   "version": "3.12.9"
  }
 },
 "nbformat": 4,
 "nbformat_minor": 2
}
