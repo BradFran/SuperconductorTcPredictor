{
 "cells": [
  {
   "cell_type": "code",
   "execution_count": null,
   "metadata": {},
   "outputs": [],
   "source": [
    "import pandas as pd\n",
    "import matplotlib.pyplot as plt\n",
    "import numpy as np\n",
    "from xgboost import XGBRegressor\n",
    "from sklearn.model_selection import train_test_split, learning_curve\n",
    "from sklearn.utils import shuffle\n",
    "\n",
    "# Load datasets\n",
    "main_data = pd.read_csv(\"./data/train.csv\")\n",
    "\n",
    "# Define target and features\n",
    "target = \"critical_temp\"\n",
    "X = main_data.drop(columns=[target])\n",
    "y = main_data[target]\n",
    "\n",
    "# Shuffle data before splitting\n",
    "X, y = shuffle(X, y, random_state=42)\n",
    "\n",
    "# Train-test split\n",
    "X_train, X_test, y_train, y_test = train_test_split(X, y, test_size=0.2, random_state=42)\n",
    "\n",
    "# Create a baseline XGBoost model with the parameters specified in the paper\n",
    "xgb_model = XGBRegressor(\n",
    "    n_estimators=374,         # Tree size: 374\n",
    "    max_depth=16,             # Maximum depth: 16\n",
    "    learning_rate=0.02,       # Learning rate (η): 0.02\n",
    "    min_child_weight=1,       # Minimum child weight: 1\n",
    "    colsample_bytree=0.5,     # Column subsampling: 0.50\n",
    "    random_state=42,\n",
    "    objective='reg:squarederror'  # default: reg:squarederror\n",
    ")\n",
    "\n",
    "\n",
    "# Learning Curve Analysis\n",
    "def plot_learning_curve(model, X, y, title):\n",
    "    train_sizes, train_scores, valid_scores = learning_curve(model, X, y, cv=5, scoring=\"neg_root_mean_squared_error\", n_jobs=-1, train_sizes=np.linspace(0.1, 1.0, 10))\n",
    "    train_mean = -np.mean(train_scores, axis=1)\n",
    "    valid_mean = -np.mean(valid_scores, axis=1)\n",
    "    plt.figure(figsize=(8, 6))\n",
    "    plt.plot(train_sizes, train_mean, label=\"Training RMSE\")\n",
    "    plt.plot(train_sizes, valid_mean, label=\"Validation RMSE\")\n",
    "    plt.xlabel(\"Training Size\")\n",
    "    plt.ylabel(\"RMSE\")\n",
    "    plt.title(title)\n",
    "    plt.legend()\n",
    "    plt.show()\n",
    "\n",
    "# Plot learning curves\n",
    "plot_learning_curve(xgb_model, X_train, y_train, \"Learning Curve - Author's original model\")\n",
    "\n"
   ]
  }
 ],
 "metadata": {
  "kernelspec": {
   "display_name": ".venv",
   "language": "python",
   "name": "python3"
  },
  "language_info": {
   "codemirror_mode": {
    "name": "ipython",
    "version": 3
   },
   "file_extension": ".py",
   "mimetype": "text/x-python",
   "name": "python",
   "nbconvert_exporter": "python",
   "pygments_lexer": "ipython3",
   "version": "3.12.9"
  }
 },
 "nbformat": 4,
 "nbformat_minor": 2
}
