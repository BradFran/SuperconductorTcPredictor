{
 "cells": [
  {
   "cell_type": "code",
   "execution_count": null,
   "metadata": {},
   "outputs": [],
   "source": [
    "#these features increased performance:\n",
    "\n",
    "# Feature Engineering: Physics-Based Ratios\n",
    "X[\"mass_density_ratio\"] = X[\"wtd_mean_atomic_mass\"] / (X[\"wtd_mean_Density\"] + 1e-9)\n",
    "X[\"affinity_valence_ratio\"] = X[\"wtd_mean_ElectronAffinity\"] / (X[\"wtd_mean_Valence\"] + 1e-9)\n",
    "\n",
    "X[\"log_thermal_conductivity\"] = np.log1p(X[\"range_ThermalConductivity\"])  # Log transformation\n",
    "\n",
    "\n",
    "# this feature showed up in importance, but removing it improved the score:\n",
    "X[\"thermal_conductivity_squared\"] = X[\"range_ThermalConductivity\"] ** 2  # Squared transformation\n",
    "\n"
   ]
  },
  {
   "cell_type": "code",
   "execution_count": null,
   "metadata": {},
   "outputs": [],
   "source": [
    "#these proposed features were ineffective at improving scores\n",
    "\n",
    "# Feature Engineering: Creating New Features\n",
    "X[\"atomic_radius_valence\"] = X[\"range_atomic_radius\"] * X[\"gmean_Valence\"]\n",
    "X[\"density_atomic_mass\"] = X[\"wtd_gmean_Density\"] / (X[\"wtd_entropy_atomic_mass\"] + 1e-9)\n",
    "X[\"thermal_density\"] = X[\"wtd_gmean_ThermalConductivity\"] * X[\"wtd_gmean_Density\"]\n",
    "\n",
    "# Log Transformations (for highly skewed features)\n",
    "X[\"log_atomic_radius\"] = np.log1p(X[\"range_atomic_radius\"])\n",
    "X[\"log_electron_affinity\"] = np.log1p(X[\"wtd_std_ElectronAffinity\"])\n",
    "\n",
    "# Statistical Aggregations\n",
    "X[\"mean_thermal_conductivity\"] = X[[\"wtd_gmean_ThermalConductivity\", \"wtd_std_ThermalConductivity\"]].mean(axis=1)\n",
    "X[\"var_electron_affinity\"] = X[[\"wtd_std_ElectronAffinity\", \"wtd_entropy_ElectronAffinity\"]].var(axis=1)\n",
    "\n",
    "\n",
    "\n"
   ]
  }
 ],
 "metadata": {
  "kernelspec": {
   "display_name": ".venv",
   "language": "python",
   "name": "python3"
  },
  "language_info": {
   "name": "python",
   "version": "3.12.9"
  }
 },
 "nbformat": 4,
 "nbformat_minor": 2
}
