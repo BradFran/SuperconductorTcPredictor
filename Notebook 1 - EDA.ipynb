{
 "cells": [
  {
   "cell_type": "markdown",
   "metadata": {},
   "source": [
    "Notebook for EDA of Superconducter data set"
   ]
  },
  {
   "cell_type": "code",
   "execution_count": null,
   "metadata": {},
   "outputs": [],
   "source": [
    "# import modules\n",
    "import numpy as np\n",
    "import pandas as pd\n",
    "import matplotlib.pyplot as plt\n",
    "import seaborn as sns\n",
    "\n",
    "# Ensure all columns are displayed without truncation in Jupyter\n",
    "pd.set_option('display.max_columns', None)\n",
    "pd.set_option('display.expand_frame_repr', False)  # Prevents truncation\n",
    "pd.set_option('display.max_rows', None)  # Show all rows if needed\n",
    "pd.set_option('max_colwidth', None)  # Prevent column width truncation\n",
    "\n",
    "# read in data\n",
    "df = pd.read_csv('./data/train.csv')\n",
    "df_m = pd.read_csv('./data/unique_m.csv')\n"
   ]
  },
  {
   "cell_type": "code",
   "execution_count": null,
   "metadata": {},
   "outputs": [],
   "source": [
    "df_m.head()"
   ]
  },
  {
   "cell_type": "code",
   "execution_count": null,
   "metadata": {},
   "outputs": [],
   "source": [
    "df.head()"
   ]
  },
  {
   "cell_type": "code",
   "execution_count": null,
   "metadata": {},
   "outputs": [],
   "source": [
    "print('df_m shape: ', df_m.shape)\n",
    "print('df shape: ', df.shape)"
   ]
  },
  {
   "cell_type": "code",
   "execution_count": null,
   "metadata": {},
   "outputs": [],
   "source": [
    "print(df.describe())"
   ]
  },
  {
   "cell_type": "code",
   "execution_count": null,
   "metadata": {},
   "outputs": [],
   "source": [
    "print(df_m.describe())"
   ]
  },
  {
   "cell_type": "code",
   "execution_count": null,
   "metadata": {},
   "outputs": [],
   "source": [
    "print(df.info())"
   ]
  },
  {
   "cell_type": "code",
   "execution_count": null,
   "metadata": {},
   "outputs": [],
   "source": [
    "print(df_m.info())"
   ]
  },
  {
   "cell_type": "code",
   "execution_count": null,
   "metadata": {},
   "outputs": [],
   "source": [
    "# Check explicit for missing values\n",
    "print(\"Missing values:\\n\", df.isnull().sum().sum())"
   ]
  },
  {
   "cell_type": "code",
   "execution_count": null,
   "metadata": {},
   "outputs": [],
   "source": [
    "# check to see if critical_temp values line up between the two data sets\n",
    "\n",
    "# print(df['critical_temp'] == df_m['critical_temp'])\n",
    "df['critical_temp'].equals(df_m['critical_temp'])"
   ]
  },
  {
   "cell_type": "code",
   "execution_count": null,
   "metadata": {},
   "outputs": [],
   "source": [
    "# Plot the distribution of the target variable (critical temperature)\n",
    "plt.figure(figsize=(10, 6))\n",
    "sns.histplot(df['critical_temp'], bins=30, kde=True)\n",
    "plt.title('Distribution of Critical Temperature')\n",
    "plt.xlabel('Critical Temperature')\n",
    "plt.ylabel('Frequency')\n",
    "plt.show()"
   ]
  },
  {
   "cell_type": "code",
   "execution_count": null,
   "metadata": {},
   "outputs": [],
   "source": [
    "# Drop non-element columns\n",
    "df_elements = df_m.drop(columns=['critical_temp', 'material'])\n",
    "\n",
    "# Count the number of nonzero entries for each element column\n",
    "frequency = (df_elements != 0).sum()\n",
    "\n",
    "# Sort the counts in descending order and limit to the top 20 elements\n",
    "frequency_sorted = frequency.sort_values(ascending=False)\n",
    "top20 = frequency_sorted.head(20)\n",
    "\n",
    "# Convert the series to a DataFrame for plotting\n",
    "df_freq = top20.reset_index()\n",
    "df_freq.columns = ['Element', 'Frequency']\n",
    "\n",
    "# Create a seaborn barplot using a blue palette and assign hue to 'Element'\n",
    "plt.figure(figsize=(12, 6))\n",
    "sns.barplot(data=df_freq, x='Element', y='Frequency', hue='Element', palette='Blues_d')\n",
    "\n",
    "plt.xticks(rotation=90)  # Rotate x labels for better readability\n",
    "plt.xlabel('Element')\n",
    "plt.ylabel('Frequency')\n",
    "plt.title('Frequency of Elements in the Dataset (Top 20)')\n",
    "plt.tight_layout()\n",
    "plt.show()\n"
   ]
  },
  {
   "cell_type": "code",
   "execution_count": null,
   "metadata": {},
   "outputs": [],
   "source": [
    "# Correlation matrix and heatmap to see feature relationships\n",
    "plt.figure(figsize=(16, 14))\n",
    "corr_matrix = df.corr()\n",
    "sns.heatmap(corr_matrix, cmap='viridis', annot=False, fmt=\".2f\")\n",
    "plt.title('Feature Correlation Matrix')\n",
    "plt.show()"
   ]
  },
  {
   "cell_type": "code",
   "execution_count": null,
   "metadata": {},
   "outputs": [],
   "source": [
    "# Sample 2000 rows and compute the correlation matrix\n",
    "df_sample = df.sample(n=4000, random_state=42)\n",
    "corr_matrix = df_sample.corr()\n",
    "\n",
    "# Apply a threshold to show only strong correlations\n",
    "threshold = 0.2\n",
    "filtered_corr = corr_matrix[(corr_matrix > threshold) | (corr_matrix < -threshold)]\n",
    "\n",
    "# Plot heatmap\n",
    "plt.figure(figsize=(18, 16))  # set figure size\n",
    "sns.heatmap(\n",
    "    filtered_corr,\n",
    "    annot=False,\n",
    "    fmt=\".1f\",\n",
    "    cmap=\"coolwarm\",\n",
    "    linewidths=0.2,\n",
    "    mask=filtered_corr.isna(),\n",
    "    annot_kws={\"size\": 4},  # Reduce annotation font size\n",
    "    # cbar_kws={\"shrink\": 0.75},  # Shrink color bar for better readability\n",
    ")\n",
    "\n",
    "# Rotate axis labels\n",
    "plt.xticks(rotation=45, ha='right', fontsize=10)\n",
    "plt.yticks(fontsize=10)\n",
    "\n",
    "plt.title(\"Filtered Correlation Matrix (|corr| > 0.2)\", fontsize=14)\n",
    "plt.show()\n"
   ]
  }
 ],
 "metadata": {
  "kernelspec": {
   "display_name": ".venv",
   "language": "python",
   "name": "python3"
  },
  "language_info": {
   "codemirror_mode": {
    "name": "ipython",
    "version": 3
   },
   "file_extension": ".py",
   "mimetype": "text/x-python",
   "name": "python",
   "nbconvert_exporter": "python",
   "pygments_lexer": "ipython3",
   "version": "3.12.9"
  }
 },
 "nbformat": 4,
 "nbformat_minor": 2
}
