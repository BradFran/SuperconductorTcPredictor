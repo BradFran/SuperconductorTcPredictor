{
 "cells": [
  {
   "cell_type": "code",
   "execution_count": null,
   "metadata": {},
   "outputs": [],
   "source": [
    "import pandas as pd\n",
    "import numpy as np\n",
    "from xgboost import XGBRegressor\n",
    "from sklearn.model_selection import train_test_split, cross_val_score\n",
    "from sklearn.metrics import mean_squared_error, r2_score\n",
    "\n",
    "# Load the data\n",
    "main_data = pd.read_csv(\"./data/train.csv\")\n",
    "\n",
    "\n",
    "# 'critical_temp' is the target\n",
    "X = main_data.drop(\"critical_temp\", axis=1)\n",
    "y = main_data[\"critical_temp\"]\n",
    "\n",
    "# Split the data into training and testing sets (80/20 split)\n",
    "X_train, X_test, y_train, y_test = train_test_split(X, y, test_size=0.2, random_state=42)\n",
    "\n",
    "# Create a baseline XGBoost model\n",
    "\n",
    "# Hyperparameters are set to common baseline values.\n",
    "#xgb_model = XGBRegressor(\n",
    "#    n_estimators=100,\n",
    "#    max_depth=6,\n",
    "#    learning_rate=0.1,\n",
    "#    random_state=42\n",
    "#)\n",
    "\n",
    "# Create a baseline XGBoost model with the parameters specified in the paper\n",
    "xgb_model = XGBRegressor(\n",
    "    n_estimators=374,         # Tree size: 374\n",
    "    max_depth=16,             # Maximum depth: 16\n",
    "    learning_rate=0.02,       # Learning rate (η): 0.02\n",
    "    min_child_weight=1,       # Minimum child weight: 1\n",
    "    colsample_bytree=0.5,     # Column subsampling: 0.50\n",
    "    random_state=42,\n",
    "    objective='reg:squarederror'\n",
    ")\n",
    "\n",
    "# Fit the model on the training data\n",
    "xgb_model.fit(X_train, y_train)\n",
    "\n",
    "# Make predictions on the test set\n",
    "y_pred = xgb_model.predict(X_test)\n",
    "\n",
    "# Evaluate the model using RMSE and R² metrics\n",
    "rmse = np.sqrt(mean_squared_error(y_test, y_pred))\n",
    "r2 = r2_score(y_test, y_pred)\n",
    "\n",
    "print(\"Author's parameters XGBoost Performance:\")\n",
    "print(\"RMSE: {:.4f}\".format(rmse))\n",
    "print(\"R²: {:.4f}\".format(r2))\n",
    "\n",
    "# Optional Cross-validation to further assess model performance\n",
    "cv_scores = cross_val_score(xgb_model, X_train, y_train, cv=5, scoring='neg_root_mean_squared_error')\n",
    "cv_rmse = -np.mean(cv_scores)\n",
    "print(\"Cross-validated RMSE: {:.4f}\".format(cv_rmse))\n"
   ]
  },
  {
   "cell_type": "markdown",
   "metadata": {},
   "source": [
    "Results:\n",
    "\n",
    "Baseline XGBoost Performance:\n",
    "\n",
    "RMSE: 9.7176\n",
    "R²: 0.9180\n",
    "Cross-validated RMSE: 10.2925\n",
    "\n",
    "\n",
    "Author's parameters XGBoost Performance:\n",
    "\n",
    "RMSE: 8.8457\n",
    "R²: 0.9320\n",
    "Cross-validated RMSE: 9.6232\n"
   ]
  }
 ],
 "metadata": {
  "kernelspec": {
   "display_name": ".venv",
   "language": "python",
   "name": "python3"
  },
  "language_info": {
   "codemirror_mode": {
    "name": "ipython",
    "version": 3
   },
   "file_extension": ".py",
   "mimetype": "text/x-python",
   "name": "python",
   "nbconvert_exporter": "python",
   "pygments_lexer": "ipython3",
   "version": "3.12.9"
  }
 },
 "nbformat": 4,
 "nbformat_minor": 2
}
